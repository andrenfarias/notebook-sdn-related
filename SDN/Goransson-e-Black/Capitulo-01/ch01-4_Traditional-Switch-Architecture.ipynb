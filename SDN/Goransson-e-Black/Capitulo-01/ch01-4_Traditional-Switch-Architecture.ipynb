{
 "cells": [
  {
   "cell_type": "markdown",
   "metadata": {},
   "source": [
    "# Capítulo 4: Arquitetura Tradicional dos Switches"
   ]
  },
  {
   "cell_type": "markdown",
   "metadata": {},
   "source": [
    "Veremos o funcionamento, do ponto de vista da arquitetura, de um switch tradicional, e como este evoluiu para o que é hoje. As diversas funções de comutação são tradicionalmente separadas em três categorias. Cada categoria pode se comunicar com as interfaces de elementos em entidades adjacentes, de mesmo nivel na topologia, e pode executar comunicação vertical com as outras categorias, e tornou-se comum representar cada uma dessas categorias como uma camada ou plano. As comunicações entre pares ocorrem no mesmo plano, e entre categorias,na terceira dimensão, entre planos."
   ]
  },
  {
   "cell_type": "markdown",
   "metadata": {},
   "source": [
    "## 1.4.1 Planos de Gerenciamento, Controle e Dados\n",
    "\n",
    "A figura 1.2 mostra os planos de controle, gerenciamento e controle de um switch tradicional. A maioria dos pacotes são manuseados apenas pelo plano de dados. O plano de dados consiste de várias portas que são usadas para recepção e transmissão de pacotes e uma tabela de encaminhamento com toda a sua lógica associada. O plano de dados é responsavel pelo \"buffering\", agendamento, modificações de cabeçalho e encaminhamento de pacotes. Se as informações do cabeçalho de um pacote recebido forem encontradas na tabela de encaminhamento, o pacote pode sofrer modificações em alguns campos de seu cabeçalho, para em seguida ser encaminhado sem qualquer intervenção dos outros planos. Nem todos os pacotes podem ser manuseados dessa forma, muitas vezes devido ao fato de que suas informações não foram encontradas na tabela de encaminhamento, ou porque elas pertencem a um protocolo de controle e devem ser processadas pelo plano de controle. \n",
    "\n",
    "O plano de controle, conforme mostrado na Figura 1.2, está envolvido em muitas atividades. Sua principal função é manter atualizadas as informações da tabela de encaminhamento, para que o plano de dados possa lidar com o maior percentual de tráfego possível, de forma independente. O plano de controle é responsável pelo processamento de vários protocolos de controle diferentes que podem afetar a tabela de encaminhamento, dependendo da configuração e do tipo de switch. Em conjunto, esses protocolos de controle são responsáveis pelo gerenciamento da topologia ativa da rede. Revisaremos alguns desses protocolos mais adiante, na Seção 1.5. Esses protocolos de controle são suficientemente complexos para exigir o uso de microprocessadores de propósito geral e respectivo software de acompanhamento no plano de controle, enquanto  a lógica do plano de dados pode ser inteiramente implementada em silício, como veremos na Seção 1.4.3.\n",
    "\n",
    "O terceiro plano retratado na Figura 1.2 é o plano de gerenciamento. Os administradores de rede configuram e monitoram o switch por meio desse plano, que, por sua vez, extrai informações ou modifica dados nos planos de controle e dados, conforme apropriado. Os administradores de rede utilizam usam algum de sistema de gerenciamento de rede para se comunicarem com o plano de gerenciamento em um switch."
   ]
  },
  {
   "attachments": {},
   "cell_type": "markdown",
   "metadata": {},
   "source": [
    "![](./figure_1-2.jpg \"Figura 1.2\")\n",
    "***\n",
    "__Figura 1.2:__ Papéis dos planos de dados, controle e gerenciamento \n"
   ]
  },
  {
   "cell_type": "markdown",
   "metadata": {},
   "source": [
    "## 1.4.2 Roteamento e \"Bridging\" baseado em Software \n",
    "\n",
    "No final da década de 1980, o mundo das redes comerciais passava pelo processo catártico de surgimento da Internet como uma rede comercial viável. Novas startups, como Cisco Systems e Wellfleet Communications, tinham grandes equipes de engenheiros construindo versões comerciais especiais dos roteadores que haviam sido relegados para uso em redes militares e de pesquisa. Embora a batalha entre a comutação de pacotes orientada por conexão, como X.25 e ATM, e a arquitetura de Internet sem conexão continuasse a ser travada por vários anos, o roteador sem conexão dominaria o mundo de comutação de pacotes.\n",
    "\n",
    "Antes disso, a maioria dos roteadores eram apenas computadores Unix de uso geral executando softwares que inspecionavam cada pacote que chegava em uma interface e pesquisavam o endereço IP de destino em uma estrutura de dados otimizada e pesquisável, como uma árvore hierárquica. Essa estrutura de dados foi chamada de tabela de roteamento. Com base na entrada encontrada durante a busca, o pacote seria transmitido através da interface de saída indicada. Os pacotes de controle seriam desviados para os processos de controle apropriados no ambiente Unix, em vez de serem processados através dessa tabela de roteamento.\n",
    "\n",
    "Em acréscimo aos roteadores de camada três (L3), muitas empresas comercializaram bridges de camada dois (L2). As Bridges criam uma LAN em ponte, que é uma topologia de segmentos LAN interconectados. Como várias tecnologias concorrentes de enlace (L2) eram predominantes, incluindo Token Ring, FDDI (Fiber Distributed Data Interface) e diferentes velocidades e versões de mídia física da Ethernet original, essas pontes também serviam como mecanismos de interface entre diferentes tecnologias de enlace. A terminologia então vigente era usar os termos \"bridging de quadros\" para a camada de enlace (L2) e \"roteamento de pacotes\" para a camada de rede (L3). Veremos neste texto que à medida que as tecnologias evoluíram, esses termos se misturaram de tal modo que um dispositivo moderno de rede, capaz de lidar tanto com L2 quanto com L3 é comumente chamado de \"switch de pacote\".\n",
    "\n",
    "A demanda por maior velocidade trouxe avanços concomitantes no desempenho desses dispositivos de rede. Em particular, a evolução rápida ocorreu tanto nos meios físicos óticos quanto nos cabos de pares de cobre trançado. As interfaces Ethernet de 10 Mbps eram comuns em 1990, e no horizonte estavam as de 100 Mbps, tanto para fibra quanto par trançado. Esses aumentos na velocidade da mídia tornaram necessário aumentar continuamente a velocidade das plataformas dos roteadores e bridges. Inicialmente, esses aumentos de desempenho eram alcançados distribuindo o processamento por meio de implementações cada vez mais paralelas envolvendo vários blades, cada um executando microprocessadores de última geração com acesso independente a uma tabela de encaminhamento distribuída. Em última análise, porém, a velocidade das interfaces chegou a um ponto em que as operações de inspeção de cabeçalho e pesquisa da tabela de roteamento, executadas por software, simplesmente não conseguiam acompanhar.\n"
   ]
  },
  {
   "cell_type": "markdown",
   "metadata": {},
   "source": [
    "## 1.4.3 Pesquisa em Tabelas de Encaminhamento Implementada por Hardware \n",
    "\n",
    "A primeira utilização expressiva da aceleração de hardware na comutação de pacotes foi a utilização de circuitos integrados de aplicação especifica (ASIC) para executar funções de hashing de alta velocidade para pesquisas em tabelas. Em meados da década de 1990, os avanços na tecnologia de memórias endereçáveis por conteúdo __[CAM](https://en.wikipedia.org/wiki/Content-addressable_memory)__ permitiram a execução de pesquisas em alta velocidade usando campos de endereço de destino para encontrar a inferface de saída para envio de pacotes em alta velocidade. A aplicação desta tecnologia em redes fez sua estréia comercial nos switches Ethernet. \n",
    "\n",
    "Naquela época, o têrmo \"switch\" era usado para distinguir uma bridge L2, com capacidade de pesquisa em tabela implementada no hardware, dos dispositivos com pesquisa implementada por software, já discutidos na Seção 1.4.2. O têrmo \"roteador\" era usado para referência ao um dispositivo L3, que inicialmente ainda usavam pesquisa implementada por software. Os roteadores ainda eram baseados em software por diversos motivos. \n",
    "\n",
    "Primeiro, as modificações nos cabeçalhos dos pacotes necessárias para a comutação na camada de rede (L3) ainda estavam além da capacidade dos ASICs disponíveis naquela época. Além disso, a pesquisa de endereço na comutação da camada de enlace baseava-se na tarefa bem simples de consultar um endereço MAC (Media Access Control) de 48 bits. A pesquisa de endereços da camada de rede (L3) é mais complicada porque o dispositivo deve procurar a correspondência mais próxima em um endereço de rede, que pode estar apenas nos bits mais significativos. Qualquer um dos endereços de destino correspondentes ao endereço da rede será encaminhado para a mesma interface de saída do endereço de próximo salto. No entanto, com o aprimoramento dos recursos dos CAMs, em poucos anos já havia roteadores de camada três capazes de pesquisar, via hardware, os endereços de rede de destino (L3).\n",
    "\n",
    "Neste ponto, as distinções entre roteadores e switches começaram a se confundir, e os termos switch L2 e switch L3 tornaram-se corriqueiros. Atualmente, o termo \"switch\" refere-se a um dispositivo tem a capacidade de atuar simultaneamente nas camadas de enlace (L2) e rede (L3)."
   ]
  },
  {
   "cell_type": "markdown",
   "metadata": {},
   "source": [
    "## 1.4.4 Regras de Encaminhamento Genericamente Programáveis\n",
    "\n",
    "Na realidade, existem muitos pacotes que precisam ser processados por um switch e que requerem tratamento mais complicado do que simplesmente serem encaminhados para outra interface diferente daquela pela qual chegaram.\n",
    "\n",
    "Por exemplo, o pacote pode pertencer a um dos protocolos de controles citados nas Seções 1.5.1 e 1.5.2, e nesse caso, ele precisa ser processado pelo plano de controle do switch. Esta abordagem \"força bruta\", de enviar todos os casos de exceção para processamento no plano de controle, rapidamente demonstrou estar fora da realidade, à medida que as taxas de encaminhamento aumentavam. A solução era mover alguma \"inteligência\" para a tabela de encaminhamento de modo que o processamento dos pacotes, tanto quanto possível, pudesse ocorrer nas velocidades típícas dos mecanismo de encaminhamento implementados por hardware.\n",
    "\n",
    "Os primeiros roteadores só precisavam realizar modificações limitadas no campo do cabeçalho do pacote. Isso incluia decrementar o campo Time-to-Live (TTL) e substituir os cabeçalhos MAC (origem e destino) para o próximo salto. No caso do suporte a multicast, eles precisavam replicar o pacote para transmissão em várias portas de saída. À medida que os recursos do switch aumentavam para oferecer suporte a recursos avançados, como redes locais virtuais (VLANs) e MPLS (Multiprotocol Label Switching), mais campos de cabeçalho de pacote requeriam manipulação cada vez mais complexa.\n",
    "\n",
    "Para essa finalidade, surgiu a idéia de se criar regras programáveis, em que parte do processamento mais complexo pudesse ser codificado e executado diretamente nos mecanismos de encaminhamento a uma taxa linear. Embora a maioria dos pacotes de protocolos de controle ainda precisassem ser desviados para processamento no plano de controle, esse recurso permitiu que os switches em evolução implementassem protocolos e recursos cada vez mais complexos, com taxas de linha (\"bit rates\") cada vez maiores. Essa ideia de  programação do hardware foi um dos precursores do conceito de rede definica por software (SDN).\n",
    "\n",
    "Embora, entre os switchs modernos, existam muitas variações na arquitetura de hardware, tentamos representar como seria um switch de última geração na Figura 1.3. A figura mostra os principais blocos funcionais pelos quais um pacote transitará conforme estiver sendo encaminhado. Na figura, vemos que o pacote pode transitar pelo recebimento de pacotes, filtro de ingresso, tradução de pacotes, filtro de saída e funções de transmissão de pacotes ou ser consumido pelo SO do switch. Podemos notar que o banco de dados de encaminhamento é influenciado pela chegada de certos pacotes, por exemplo, quando um novo endereço é aprendido. Também vemos que o hardware gera uma chave de fluxo para servir como chave de pesquisa no banco de dados de encaminhamento."
   ]
  },
  {
   "cell_type": "markdown",
   "metadata": {},
   "source": [
    "![ ](./figure_1-3.jpg  \"Figura 1.3\")\n",
    "***\n",
    "__Figura 1.3:__ Jornada de um pacote através do hardware de um switch"
   ]
  },
  {
   "cell_type": "markdown",
   "metadata": {},
   "source": [
    "O banco de dados de encaminhamento fornecerá instruções básicas de encaminhamento, bem como diretivas de politicas, se forem relevantes para este switch. O filtro de ingresso aplica políticas, que podem resultar no descarte do pacote. As modificações no cabeçalho do pacote ocorrem tanto no filtro de ingresso quanto na função de tradução de pacote. A política de saída é implementada no filtro de saída, onde novamente o pacote pode ser descartado, se, por exemplo, as taxas de qualidade de serviço estabelecidas (QoS) estiverem sendo excedidas. Finalmente, o pacote passa pela função de transmissão de pacotes, onde o processamento adicional de fila de prioridade ocorre antes de sua transmissão real no meio de comunicação."
   ]
  },
  {
   "cell_type": "code",
   "execution_count": null,
   "metadata": {},
   "outputs": [],
   "source": []
  }
 ],
 "metadata": {
  "kernelspec": {
   "display_name": "Python 3",
   "language": "python",
   "name": "python3"
  },
  "language_info": {
   "codemirror_mode": {
    "name": "ipython",
    "version": 3
   },
   "file_extension": ".py",
   "mimetype": "text/x-python",
   "name": "python",
   "nbconvert_exporter": "python",
   "pygments_lexer": "ipython3",
   "version": "3.6.6"
  }
 },
 "nbformat": 4,
 "nbformat_minor": 1
}
