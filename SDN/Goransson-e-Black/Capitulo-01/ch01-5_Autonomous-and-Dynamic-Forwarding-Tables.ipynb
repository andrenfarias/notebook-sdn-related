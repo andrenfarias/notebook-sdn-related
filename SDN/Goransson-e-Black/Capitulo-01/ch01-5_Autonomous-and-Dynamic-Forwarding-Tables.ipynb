{
 "cells": [
  {
   "cell_type": "markdown",
   "metadata": {},
   "source": [
    "## 1.5 Tabelas de Encaminhamento Autônomas e Dinâmicas\n",
    "\n",
    "Para lidar com links de comunicações instáveis e com a possibilidade de falha de de todo um centro de comutação, os protocolos foram desenvolvidos de maneira que as pontes e os roteadores tenham a capacidade de construir e atualizar dinamica e autonomamente suas tabelas de encaminhamento. Nesta seção, apresentaremos informações sobre alguns dos principais protocolos desenvolvidos para fornecer esse recurso."
   ]
  },
  {
   "cell_type": "markdown",
   "metadata": {},
   "source": [
    "### 1.5.1 "
   ]
  }
 ],
 "metadata": {
  "kernelspec": {
   "display_name": "Python 3",
   "language": "python",
   "name": "python3"
  },
  "language_info": {
   "codemirror_mode": {
    "name": "ipython",
    "version": 3
   },
   "file_extension": ".py",
   "mimetype": "text/x-python",
   "name": "python",
   "nbconvert_exporter": "python",
   "pygments_lexer": "ipython3",
   "version": "3.6.6"
  }
 },
 "nbformat": 4,
 "nbformat_minor": 2
}
